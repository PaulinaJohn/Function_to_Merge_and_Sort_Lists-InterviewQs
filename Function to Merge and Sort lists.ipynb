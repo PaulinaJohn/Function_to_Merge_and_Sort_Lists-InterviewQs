{
 "cells": [
  {
   "cell_type": "code",
   "execution_count": 5,
   "id": "2589572f",
   "metadata": {},
   "outputs": [],
   "source": [
    "def MergeSort(a, b):\n",
    "    c = a + b\n",
    "    c.sort()\n",
    "    return c"
   ]
  },
  {
   "cell_type": "code",
   "execution_count": 7,
   "id": "4cceca11",
   "metadata": {},
   "outputs": [
    {
     "data": {
      "text/plain": [
       "[6, 8, 10, 11, 22, 34]"
      ]
     },
     "execution_count": 7,
     "metadata": {},
     "output_type": "execute_result"
    }
   ],
   "source": [
    "ist_list = [6, 11, 8]\n",
    "next_list = [10, 34, 22]\n",
    "\n",
    "MergeSort(ist_list, next_list)"
   ]
  }
 ],
 "metadata": {
  "kernelspec": {
   "display_name": "Python 3 (ipykernel)",
   "language": "python",
   "name": "python3"
  },
  "language_info": {
   "codemirror_mode": {
    "name": "ipython",
    "version": 3
   },
   "file_extension": ".py",
   "mimetype": "text/x-python",
   "name": "python",
   "nbconvert_exporter": "python",
   "pygments_lexer": "ipython3",
   "version": "3.9.12"
  }
 },
 "nbformat": 4,
 "nbformat_minor": 5
}
