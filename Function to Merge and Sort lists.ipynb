{
 "cells": [
  {
   "cell_type": "code",
   "execution_count": 6,
   "id": "2589572f",
   "metadata": {},
   "outputs": [],
   "source": [
    "# Creating the function: MergeSort()\n",
    "\n",
    "def MergeSort(a, b):\n",
    "    c = a + b\n",
    "    c.sort()\n",
    "    return c"
   ]
  },
  {
   "cell_type": "code",
   "execution_count": 7,
   "id": "4cceca11",
   "metadata": {},
   "outputs": [],
   "source": [
    "# Creating the lists on which to call the function.\n",
    "\n",
    "ist_list = [6, 11, 8]\n",
    "next_list = [10, 34, 22]"
   ]
  },
  {
   "cell_type": "code",
   "execution_count": 8,
   "id": "3e015dee",
   "metadata": {},
   "outputs": [
    {
     "data": {
      "text/plain": [
       "[6, 8, 10, 11, 22, 34]"
      ]
     },
     "execution_count": 8,
     "metadata": {},
     "output_type": "execute_result"
    }
   ],
   "source": [
    "# Calling the function.\n",
    "\n",
    "MergeSort(ist_list, next_list)"
   ]
  },
  {
   "cell_type": "code",
   "execution_count": null,
   "id": "79bc3384",
   "metadata": {},
   "outputs": [],
   "source": []
  }
 ],
 "metadata": {
  "kernelspec": {
   "display_name": "Python 3 (ipykernel)",
   "language": "python",
   "name": "python3"
  },
  "language_info": {
   "codemirror_mode": {
    "name": "ipython",
    "version": 3
   },
   "file_extension": ".py",
   "mimetype": "text/x-python",
   "name": "python",
   "nbconvert_exporter": "python",
   "pygments_lexer": "ipython3",
   "version": "3.9.12"
  }
 },
 "nbformat": 4,
 "nbformat_minor": 5
}
